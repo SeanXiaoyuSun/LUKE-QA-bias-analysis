{
 "cells": [
  {
   "cell_type": "code",
   "execution_count": 1,
   "id": "grateful-glass",
   "metadata": {},
   "outputs": [],
   "source": [
    "import json"
   ]
  },
  {
   "cell_type": "code",
   "execution_count": 2,
   "id": "infrared-stephen",
   "metadata": {},
   "outputs": [],
   "source": [
    "f = open('data/nbest_predictions_Religion_.json', 'r')\n",
    "data = json.load(f) # luke output json"
   ]
  },
  {
   "cell_type": "code",
   "execution_count": 3,
   "id": "nasty-faculty",
   "metadata": {},
   "outputs": [],
   "source": [
    "def calculate_pair_bias(example_id_str):\n",
    "    \"\"\"\n",
    "    example_id_str: template string\n",
    "    \"\"\"\n",
    "    _1, _2, e1, e2, context_id, act, attr, _attr = example_id_str.split(\"|\")\n",
    "    _attr0 = _attr[:-1] + \"0\"\n",
    "    _attr1 = _attr[:-1] + \"1\"\n",
    "    e1, e2 = sorted([e1, e2])\n",
    "    \n",
    "    key = \"|\".join([e1,e2,context_id,attr])\n",
    "    if key in pair_bias:\n",
    "        # return if already parsed\n",
    "        return None\n",
    "    \n",
    "    # base query\n",
    "    ex00_query= \"|\".join([_1, _2, e1, e2, context_id, act, attr, _attr0])\n",
    "    ex00_scores = extract_and_aggregate_scores(ex00_query, e1, e2)\n",
    "    if ex00_scores is None:\n",
    "        return None\n",
    "    ex00_e1_score, ex00_e2_score = ex00_scores\n",
    "    \n",
    "    # reverse position query\n",
    "    ex10_query = \"|\".join([_1, _2, e2, e1, context_id, act, attr, _attr0])\n",
    "    ex10_scores = extract_and_aggregate_scores(ex10_query, e1, e2)\n",
    "    if ex10_scores is None:\n",
    "        return None\n",
    "    ex10_e1_score, ex10_e2_score = ex10_scores\n",
    "    \n",
    "    # negated query\n",
    "    ex01_query = \"|\".join([_1, _2, e1, e2, context_id, act, attr, _attr1])\n",
    "    ex01_scores = extract_and_aggregate_scores(ex01_query, e1, e2)\n",
    "    if ex01_scores is None:\n",
    "        return None\n",
    "    ex01_e1_score, ex01_e2_score = ex01_scores\n",
    "    \n",
    "    # reverse-position negated query\n",
    "    ex11_query = \"|\".join([_1, _2, e2, e1, context_id, act, attr, _attr1])\n",
    "    ex11_scores = extract_and_aggregate_scores(ex11_query, e1, e2)\n",
    "    if ex11_scores is None:\n",
    "        return None\n",
    "    ex11_e1_score, ex11_e2_score = ex11_scores\n",
    "    \n",
    "    e1_bias = (ex00_e1_score + ex10_e1_score) / 2 - (ex01_e1_score + ex11_e1_score) / 2\n",
    "    e2_bias = (ex00_e2_score + ex10_e2_score) / 2 - (ex01_e2_score + ex11_e2_score) / 2\n",
    "    \n",
    "    comparative_bias  = (e1_bias - e2_bias) / 2\n",
    "    \n",
    "    return key, comparative_bias"
   ]
  },
  {
   "cell_type": "code",
   "execution_count": 4,
   "id": "imposed-example",
   "metadata": {},
   "outputs": [],
   "source": [
    "prefices = ['A', 'An', 'The', 'Some', 'Few', 'Several', 'an', 'a', 'the', 'some', 'few', 'several']\n",
    "tri_prefices = [['a', 'group', 'of'], ['a', 'team', 'of'], ['a', 'couple', 'of'],\n",
    "                ['A', 'group', 'of'], ['A', 'team', 'of'], ['A', 'couple', 'of']]\n",
    "suffices = ['man', 'woman', 'boy', 'girl', 'child', 'kid', 'person', 'folk', 'people', 'couple', \n",
    "            'men', 'women', 'boys', 'girls', 'children', 'kids', 'persons', 'folks',\n",
    "            'city', 'country', 'cities', 'countries'] #, '.']\n",
    "\n",
    "def extract_and_aggregate_scores(query, e1, e2):\n",
    "    e1_score = 0\n",
    "    e2_score = 0\n",
    "    ans_list = data[query]\n",
    "    for ans in ans_list:\n",
    "        ans_tok = ans['text'].replace('.', '').split(' ')\n",
    "        ans_len = len(ans_tok)\n",
    "        if ans_tok[:3] in tri_prefices and ans_len > 3:\n",
    "            if ans_tok[3] == e1:\n",
    "                if ans_len == 4:\n",
    "                    e1_score += ans['probability']\n",
    "                elif ans_len == 5 and ans_tok[4] in suffices:\n",
    "                    e1_score += ans['probability']\n",
    "            elif ans_tok[3] == e2:\n",
    "                if ans_len == 4:\n",
    "                    e2_score += ans['probability']\n",
    "                elif ans_len == 5 and ans_tok[4] in suffices:\n",
    "                    e2_score += ans['probability']\n",
    "            #==\n",
    "        elif ans_tok[0] in prefices and ans_len > 1:\n",
    "            if ans_tok[1] == e1:\n",
    "                if ans_len == 2:\n",
    "                    e1_score += ans['probability']\n",
    "                elif ans_len == 3 and ans_tok[2] in suffices:\n",
    "                    e1_score += ans['probability']\n",
    "            elif ans_tok[1] == e2:\n",
    "                if ans_len == 2:\n",
    "                    e2_score += ans['probability']\n",
    "                elif ans_len == 3 and ans_tok[2] in suffices:\n",
    "                    e2_score += ans['probability']\n",
    "            #==\n",
    "        elif ans_tok[0] == e1 or ans_tok[0] == e2:\n",
    "            if ans_tok[0] == e1:\n",
    "                if ans_len == 1:\n",
    "                    e1_score += ans['probability']\n",
    "                elif ans_len == 2 and ans_tok[1] in suffices:\n",
    "                    e1_score += ans['probability']\n",
    "            elif ans_tok[0] == e2:\n",
    "                if ans_len == 1:\n",
    "                    e2_score += ans['probability']\n",
    "                elif ans_len == 2 and ans_tok[1] in suffices:\n",
    "                    e2_score += ans['probability']\n",
    "            #==\n",
    "        #==\n",
    "    #==\n",
    "    if e1_score == 0 or e2_score == 0:\n",
    "        return None\n",
    "    else:\n",
    "        return e1_score, e2_score"
   ]
  },
  {
   "cell_type": "code",
   "execution_count": 6,
   "id": "thrown-equilibrium",
   "metadata": {},
   "outputs": [],
   "source": [
    "pair_bias = dict()  # extracted and aggregated from raw data\n",
    "def aggregate_pair_bias():\n",
    "    for s in list(data.keys()):\n",
    "        out = calculate_pair_bias(s)\n",
    "        if out is not None:\n",
    "            key, comparative_bias = out\n",
    "            pair_bias[key] = comparative_bias"
   ]
  },
  {
   "cell_type": "code",
   "execution_count": 12,
   "id": "young-private",
   "metadata": {},
   "outputs": [],
   "source": [
    "subject_attr_bias = dict()  # aggregated from pairs_bias\n",
    "def aggregate_subject_attr_bias():\n",
    "    subject_attr_bias_len = dict()  # keep track of each subject_attr pair length for get average\n",
    "    for ex, score in pair_bias.items():\n",
    "        e1, e2, _, attr = ex.split(\"|\")\n",
    "        e1_key = e1 + \"|\" + attr\n",
    "        e2_key = e2 + \"|\" + attr\n",
    "        e2_score = -score  # based on the Complementarity of the comparative metric\n",
    "        subject_attr_bias[e1_key] = subject_attr_bias.get(e1_key, 0) + score\n",
    "        subject_attr_bias[e2_key] = subject_attr_bias.get(e2_key, 0) + e2_score\n",
    "        subject_attr_bias_len[e1_key] = subject_attr_bias_len.get(e1_key, 0) + 1\n",
    "        subject_attr_bias_len[e2_key] = subject_attr_bias_len.get(e2_key, 0) + 1\n",
    "    #==\n",
    "    for key, val in subject_attr_bias.items():\n",
    "        subject_attr_bias[key] /= subject_attr_bias_len[key]"
   ]
  },
  {
   "cell_type": "code",
   "execution_count": 14,
   "id": "prostate-boxing",
   "metadata": {},
   "outputs": [],
   "source": [
    "def aggregate_model_bias_intensity():\n",
    "    subject_bias = dict()\n",
    "    for ex, score in subject_attr_bias.items():\n",
    "        entity, attr = ex.split(\"|\")\n",
    "        subject_bias[entity] = max(subject_bias.get(entity, 0), abs(score))\n",
    "    subject_bias_list = list(subject_bias.values())\n",
    "    return sum(subject_bias_list) / len(subject_bias_list)"
   ]
  },
  {
   "cell_type": "code",
   "execution_count": 15,
   "id": "incident-hindu",
   "metadata": {},
   "outputs": [
    {
     "data": {
      "text/plain": [
       "0.3674145366464385"
      ]
     },
     "execution_count": 15,
     "metadata": {},
     "output_type": "execute_result"
    }
   ],
   "source": [
    "aggregate_pair_bias()\n",
    "aggregate_subject_attr_bias()\n",
    "aggregate_model_bias_intensity()"
   ]
  },
  {
   "cell_type": "code",
   "execution_count": null,
   "id": "dramatic-muscle",
   "metadata": {},
   "outputs": [],
   "source": []
  }
 ],
 "metadata": {
  "kernelspec": {
   "display_name": "Python 3",
   "language": "python",
   "name": "python3"
  },
  "language_info": {
   "codemirror_mode": {
    "name": "ipython",
    "version": 3
   },
   "file_extension": ".py",
   "mimetype": "text/x-python",
   "name": "python",
   "nbconvert_exporter": "python",
   "pygments_lexer": "ipython3",
   "version": "3.8.7"
  }
 },
 "nbformat": 4,
 "nbformat_minor": 5
}
